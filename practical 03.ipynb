{
 "cells": [
  {
   "cell_type": "code",
   "execution_count": 1,
   "id": "6a1b32a5-65a0-4c74-9060-6436a2560cca",
   "metadata": {
    "tags": []
   },
   "outputs": [],
   "source": [
    "# Data types\n",
    "#numeric=int,float,complex"
   ]
  },
  {
   "cell_type": "code",
   "execution_count": 2,
   "id": "2344e59c-9bc1-4c6d-b93d-0dde9a4a7793",
   "metadata": {
    "tags": []
   },
   "outputs": [
    {
     "name": "stdout",
     "output_type": "stream",
     "text": [
      "<class 'int'>\n"
     ]
    }
   ],
   "source": [
    "a=4\n",
    "print(type(a))"
   ]
  },
  {
   "cell_type": "code",
   "execution_count": 3,
   "id": "fdb35445-c93d-428c-a171-1257bbdf8c86",
   "metadata": {
    "tags": []
   },
   "outputs": [
    {
     "name": "stdout",
     "output_type": "stream",
     "text": [
      "<class 'float'>\n"
     ]
    }
   ],
   "source": [
    "b=7.8\n",
    "print(type(b))"
   ]
  },
  {
   "cell_type": "code",
   "execution_count": 4,
   "id": "e12c74fc-cbc8-470d-a3d2-589c9b9d0256",
   "metadata": {
    "tags": []
   },
   "outputs": [
    {
     "name": "stdout",
     "output_type": "stream",
     "text": [
      "<class 'complex'>\n"
     ]
    }
   ],
   "source": [
    "c=3+4j\n",
    "print(type(c))"
   ]
  },
  {
   "cell_type": "code",
   "execution_count": 5,
   "id": "724a93d1-353d-4e36-88fc-3276f5419193",
   "metadata": {},
   "outputs": [],
   "source": [
    "# Character-string,list,tuple"
   ]
  },
  {
   "cell_type": "code",
   "execution_count": 6,
   "id": "bd7abca2-c8c9-476a-be46-5ca7d76ab3c7",
   "metadata": {
    "tags": []
   },
   "outputs": [
    {
     "name": "stdout",
     "output_type": "stream",
     "text": [
      "<class 'str'>\n",
      "<class 'str'>\n"
     ]
    }
   ],
   "source": [
    "d='Jaipur'\n",
    "\n",
    "print(type(d))\n",
    "\n",
    "e='I am Good'\n",
    "\n",
    "print(type(e))"
   ]
  },
  {
   "cell_type": "code",
   "execution_count": 7,
   "id": "478073b0-94bc-4e2e-96da-4b9c2a927c48",
   "metadata": {
    "tags": []
   },
   "outputs": [
    {
     "name": "stdout",
     "output_type": "stream",
     "text": [
      "[1, 2, 3, 4, 'apple']\n"
     ]
    }
   ],
   "source": [
    "#list \n",
    "f=[1,2,3,4,'apple']  #square bracket\n",
    "             #'comma'\n",
    "             # Mutable - Can perform operation\n",
    "             #Slow-dynamic(Can be change)\n",
    "             #ordered collection\n",
    "print(f)"
   ]
  },
  {
   "cell_type": "code",
   "execution_count": 8,
   "id": "4ea00bdd-03e8-420e-8b1a-039fed610c14",
   "metadata": {
    "tags": []
   },
   "outputs": [],
   "source": [
    "#Tuple            #Paranthesis\n",
    "            #' comma\n",
    "            #immutable(cannot be changed)\n",
    "            #fast-statics(cannot be changed)\n",
    "            #ordered"
   ]
  },
  {
   "cell_type": "code",
   "execution_count": 9,
   "id": "224f43e3-5ed9-4802-b033-b0b64a704529",
   "metadata": {
    "tags": []
   },
   "outputs": [
    {
     "name": "stdout",
     "output_type": "stream",
     "text": [
      "10\n"
     ]
    }
   ],
   "source": [
    "f = [7,8,9,10,'Apple']  #indexing\n",
    "print(f[-2])"
   ]
  },
  {
   "cell_type": "code",
   "execution_count": 10,
   "id": "4ba9721b-2607-47d3-bc3f-7eba4d4bf7b2",
   "metadata": {
    "tags": []
   },
   "outputs": [
    {
     "name": "stdout",
     "output_type": "stream",
     "text": [
      "[3.6, 4, 'Apple', 2]\n",
      "['Apple', 9.8, 34]\n",
      "[3.6, 'Apple']\n",
      "['Jaipur', 34, 'Guava', 10]\n",
      "['Jaipur', 'Guava']\n"
     ]
    }
   ],
   "source": [
    "f=[1,2,3.6,4,'Apple',2,3.8,9.8,10,'Guava',34,'Jaipur']\n",
    "print(f[2:6])\n",
    "\n",
    "print(f[4:11:3])                                    #indexing\n",
    "                                            #slicing([start:end+1:[stepsize]])\n",
    "print(f[2:6:2])\n",
    "\n",
    "print(f[-1:-5:-1])\n",
    "\n",
    "print(f[-1:-4:-2])"
   ]
  },
  {
   "cell_type": "code",
   "execution_count": 11,
   "id": "2fd7f3de-0182-4d0e-97eb-7ca432b21827",
   "metadata": {
    "tags": []
   },
   "outputs": [
    {
     "name": "stdout",
     "output_type": "stream",
     "text": [
      "['Guava', 9.8, 2]\n",
      "[]\n",
      "[]\n",
      "[10, 'Guava', 34]\n",
      "[34, 9.8]\n",
      "[]\n"
     ]
    }
   ],
   "source": [
    "print(f[-3:-8:-2])\n",
    "\n",
    "print(f[-2:-8:2])\n",
    "\n",
    "print(f[-4:-1:-2])\n",
    "\n",
    "print(f[-4:-1:1])\n",
    "print(f[-2:-6:-3])\n",
    "print(f[1:8:-2])"
   ]
  }
 ],
 "metadata": {
  "kernelspec": {
   "display_name": "Python 3 (ipykernel)",
   "language": "python",
   "name": "python3"
  },
  "language_info": {
   "codemirror_mode": {
    "name": "ipython",
    "version": 3
   },
   "file_extension": ".py",
   "mimetype": "text/x-python",
   "name": "python",
   "nbconvert_exporter": "python",
   "pygments_lexer": "ipython3",
   "version": "3.11.5"
  }
 },
 "nbformat": 4,
 "nbformat_minor": 5
}

{
 "cells": [
  {
   "cell_type": "code",
   "execution_count": 7,
   "metadata": {
    "tags": []
   },
   "outputs": [],
   "source": [
    "# idenity operator"
   ]
  },
  {
   "cell_type": "code",
   "execution_count": 1,
   "metadata": {
    "colab": {
     "base_uri": "https://localhost:8080/"
    },
    "id": "sdfd6_LUH73K",
    "outputId": "8cd917f1-ae66-4f43-d384-f9bdf904c805",
    "tags": []
   },
   "outputs": [
    {
     "name": "stdout",
     "output_type": "stream",
     "text": [
      "True\n"
     ]
    }
   ],
   "source": [
    "\n",
    "a=[1,2,3]\n",
    "b=[1,2,3] #mutabledatatype changes(delete,insert,change)\n",
    "print(a==b)"
   ]
  },
  {
   "cell_type": "code",
   "execution_count": 2,
   "metadata": {
    "colab": {
     "base_uri": "https://localhost:8080/"
    },
    "id": "3arSMRJx66_M",
    "outputId": "38290a8c-5f5c-4874-9d8d-0d913c756528",
    "tags": []
   },
   "outputs": [
    {
     "name": "stdout",
     "output_type": "stream",
     "text": [
      "False\n"
     ]
    }
   ],
   "source": [
    "print(a is b)#memory address check"
   ]
  },
  {
   "cell_type": "code",
   "execution_count": 3,
   "metadata": {
    "colab": {
     "base_uri": "https://localhost:8080/"
    },
    "id": "0mARWKCw7A_t",
    "outputId": "b2df3ed1-2ff3-4cbd-8a7b-9320d9c8d431",
    "tags": []
   },
   "outputs": [
    {
     "name": "stdout",
     "output_type": "stream",
     "text": [
      "1956647142400\n"
     ]
    }
   ],
   "source": [
    "print(id(a))"
   ]
  },
  {
   "cell_type": "code",
   "execution_count": 4,
   "metadata": {
    "colab": {
     "base_uri": "https://localhost:8080/"
    },
    "id": "vz4v7gzj7G6g",
    "outputId": "e48c2b55-9c04-4c01-d773-eab76349ff6f",
    "tags": []
   },
   "outputs": [
    {
     "name": "stdout",
     "output_type": "stream",
     "text": [
      "1956647142208\n"
     ]
    }
   ],
   "source": [
    "print(id(b))"
   ]
  },
  {
   "cell_type": "code",
   "execution_count": 5,
   "metadata": {
    "colab": {
     "base_uri": "https://localhost:8080/"
    },
    "id": "CtdTMw1n7KKg",
    "outputId": "bb31e5fb-0ddf-4b94-ca31-1ab9aad08e8d",
    "tags": []
   },
   "outputs": [
    {
     "name": "stdout",
     "output_type": "stream",
     "text": [
      "True\n",
      "True\n"
     ]
    }
   ],
   "source": [
    "a=12#immutable datatype (mutable=changeable)\n",
    "b=12 #(immutable=)\n",
    "print(a==b)\n",
    "print(a is b)\n"
   ]
  },
  {
   "cell_type": "code",
   "execution_count": 6,
   "metadata": {
    "colab": {
     "base_uri": "https://localhost:8080/"
    },
    "id": "ExC1lOIV79o7",
    "outputId": "65615400-eb83-4e64-e800-e44933c5e41b",
    "tags": []
   },
   "outputs": [
    {
     "name": "stdout",
     "output_type": "stream",
     "text": [
      "8\n",
      "14\n",
      "6\n"
     ]
    }
   ],
   "source": [
    "#bitwise operator\n",
    "a=8\n",
    "b=14\n",
    "print(a & b)\n",
    "print(a | b)\n",
    "print(a ^ b)"
   ]
  },
  {
   "cell_type": "code",
   "execution_count": 11,
   "metadata": {
    "colab": {
     "base_uri": "https://localhost:8080/"
    },
    "id": "QNYmmm-gAZwW",
    "outputId": "4685c099-b6a5-44d9-8d3c-5636429cb8fa",
    "tags": []
   },
   "outputs": [
    {
     "data": {
      "text/plain": [
       "-38.0"
      ]
     },
     "execution_count": 11,
     "metadata": {},
     "output_type": "execute_result"
    }
   ],
   "source": [
    "1+5/5*6+4-7**2    #arithmetic operator(BODMAS)\n",
    "#(PEMDAS)\n",
    "# >>PARENTHESES(BRACKET)\n",
    "# >>eXPONENT(**)\n",
    "# >>mULTIPLICATION YA DIVISION\n",
    "# >>ADDITION YA SUBST"
   ]
  },
  {
   "cell_type": "markdown",
   "metadata": {
    "id": "JR0bWKLZDfgt"
   },
   "source": [
    "5/5=1 1.0*6=6.0+1=7.0"
   ]
  },
  {
   "cell_type": "code",
   "execution_count": null,
   "metadata": {
    "id": "EkUwTSjbFB0Z",
    "tags": []
   },
   "outputs": [],
   "source": [
    "#datatype\n",
    "#Numeric-int,float,complex\n",
    "#character-string,tuple,list\n",
    "#Boolean\n",
    "#set-set,frozenset\n",
    "#mapping-dictionary\n",
    "#none-None"
   ]
  },
  {
   "cell_type": "markdown",
   "metadata": {
    "id": "3DJx0r2fGEmU"
   },
   "source": [
    "# Numeric\n",
    "\n",
    "\n",
    "int=12,10,6,7,8,-2,0(number line)(decimal not included)\n",
    "float=12.0,10.3,3.6,-9.8(decimal points)(decimal included)\n",
    "complex=3+4j,6+8j(i+aj)"
   ]
  },
  {
   "cell_type": "code",
   "execution_count": null,
   "metadata": {},
   "outputs": [],
   "source": []
  }
 ],
 "metadata": {
  "colab": {
   "provenance": []
  },
  "kernelspec": {
   "display_name": "Python 3 (ipykernel)",
   "language": "python",
   "name": "python3"
  },
  "language_info": {
   "codemirror_mode": {
    "name": "ipython",
    "version": 3
   },
   "file_extension": ".py",
   "mimetype": "text/x-python",
   "name": "python",
   "nbconvert_exporter": "python",
   "pygments_lexer": "ipython3",
   "version": "3.11.5"
  }
 },
 "nbformat": 4,
 "nbformat_minor": 4
}

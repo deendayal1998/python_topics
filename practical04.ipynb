{
 "cells": [
  {
   "cell_type": "code",
   "execution_count": 1,
   "id": "0d3ac84c-920f-4993-9940-01d932670ee2",
   "metadata": {
    "tags": []
   },
   "outputs": [],
   "source": [
    "#character list,string,tuple\n",
    "#list indexing and slicing\n",
    "#list method ---->>>> append,extend,insert,remove,pop,clear index,count,copy,copy,len,max,min,sort,reverse"
   ]
  },
  {
   "cell_type": "code",
   "execution_count": 2,
   "id": "7a3070c2-df9d-4464-9167-e36f44564e37",
   "metadata": {
    "tags": []
   },
   "outputs": [
    {
     "data": {
      "text/plain": [
       "[1, 2, 3, 'apple', 6, 7, 5]"
      ]
     },
     "execution_count": 2,
     "metadata": {},
     "output_type": "execute_result"
    }
   ],
   "source": [
    "l1=[1,2,3,'apple',6,7]\n",
    "l1.append(5)\n",
    "l1                                  #insert element at the last point(1 element)"
   ]
  },
  {
   "cell_type": "code",
   "execution_count": 3,
   "id": "905fc473-0fe2-445a-b644-7c3e242ca5fd",
   "metadata": {
    "tags": []
   },
   "outputs": [],
   "source": [
    "l1.extend([11,12,13,14])                    #insert a series of element at the last"
   ]
  },
  {
   "cell_type": "code",
   "execution_count": 4,
   "id": "3775c9a8-9724-4f95-83f9-a473be2d4acc",
   "metadata": {
    "tags": []
   },
   "outputs": [
    {
     "data": {
      "text/plain": [
       "[1, 2, 3, 'apple', 6, 7, 5, 11, 12, 13, 14]"
      ]
     },
     "execution_count": 4,
     "metadata": {},
     "output_type": "execute_result"
    }
   ],
   "source": [
    "l1"
   ]
  },
  {
   "cell_type": "code",
   "execution_count": 5,
   "id": "cb90e3d9-7fbe-4d15-9110-006bcdf9b793",
   "metadata": {
    "tags": []
   },
   "outputs": [
    {
     "data": {
      "text/plain": [
       "[1, 'school', 2, 3, 'apple', 6, 7, 5, 11, 12, 13, 14]"
      ]
     },
     "execution_count": 5,
     "metadata": {},
     "output_type": "execute_result"
    }
   ],
   "source": [
    "l1.insert(1,'school')\n",
    "l1                                 #2 argument ----->>>1st index, 2nd element"
   ]
  },
  {
   "cell_type": "code",
   "execution_count": 6,
   "id": "1b439b76-c106-4381-9f42-725b3564c71d",
   "metadata": {
    "tags": []
   },
   "outputs": [
    {
     "data": {
      "text/plain": [
       "[1, 2, 3, 'apple', 6, 7, 5, 11, 12, 13, 14]"
      ]
     },
     "execution_count": 6,
     "metadata": {},
     "output_type": "execute_result"
    }
   ],
   "source": [
    "l1.remove('school')\n",
    "l1                                          # argument passed ------>>>> the element"
   ]
  },
  {
   "cell_type": "code",
   "execution_count": 7,
   "id": "842179b0-2add-4406-b13b-44207348fd5e",
   "metadata": {
    "tags": []
   },
   "outputs": [
    {
     "data": {
      "text/plain": [
       "[1, 2, 3, 6, 7, 5, 11, 12, 13, 14]"
      ]
     },
     "execution_count": 7,
     "metadata": {},
     "output_type": "execute_result"
    }
   ],
   "source": [
    "l1.pop(3)\n",
    "l1                                           #argument passed the ----->>> index"
   ]
  },
  {
   "cell_type": "code",
   "execution_count": 8,
   "id": "6e51e202-97b1-4425-a405-2b5ed38d6c90",
   "metadata": {
    "tags": []
   },
   "outputs": [
    {
     "data": {
      "text/plain": [
       "[]"
      ]
     },
     "execution_count": 8,
     "metadata": {},
     "output_type": "execute_result"
    }
   ],
   "source": [
    "l1.clear()\n",
    "l1                         #clear all the element"
   ]
  },
  {
   "cell_type": "code",
   "execution_count": 9,
   "id": "68d7bd93-5d77-4c59-8510-cb03628b3aa9",
   "metadata": {
    "tags": []
   },
   "outputs": [
    {
     "data": {
      "text/plain": [
       "3"
      ]
     },
     "execution_count": 9,
     "metadata": {},
     "output_type": "execute_result"
    }
   ],
   "source": [
    "l3= [3,3,4,5,5,6,6,3,4,8,7,9,12]\n",
    "l3.count(3)                                     #count the number of occurrences "
   ]
  },
  {
   "cell_type": "code",
   "execution_count": 10,
   "id": "358cb687-81be-4f6c-a6a9-61fe793fb5b3",
   "metadata": {
    "tags": []
   },
   "outputs": [
    {
     "data": {
      "text/plain": [
       "8"
      ]
     },
     "execution_count": 10,
     "metadata": {},
     "output_type": "execute_result"
    }
   ],
   "source": [
    "l3.index(4,5,11)\n"
   ]
  },
  {
   "cell_type": "code",
   "execution_count": 11,
   "id": "5c2e1a84-5abe-4bba-b194-a411ecdab877",
   "metadata": {
    "tags": []
   },
   "outputs": [
    {
     "data": {
      "text/plain": [
       "[3, 3, 5, 5, 6, 6, 3, 4, 8, 7, 9, 12]"
      ]
     },
     "execution_count": 11,
     "metadata": {},
     "output_type": "execute_result"
    }
   ],
   "source": [
    "l3.remove(4)\n",
    "l3"
   ]
  },
  {
   "cell_type": "code",
   "execution_count": 12,
   "id": "0f5d00be-d818-4da5-a65b-ebdc2c48b089",
   "metadata": {
    "tags": []
   },
   "outputs": [
    {
     "data": {
      "text/plain": [
       "[3, 3, 5, 5, 6, 6, 3, 4, 8, 7, 9]"
      ]
     },
     "execution_count": 12,
     "metadata": {},
     "output_type": "execute_result"
    }
   ],
   "source": [
    "l3.pop()\n",
    "l3"
   ]
  },
  {
   "cell_type": "code",
   "execution_count": 13,
   "id": "12d0eebe-377f-4dd0-91f5-024cd221833a",
   "metadata": {
    "tags": []
   },
   "outputs": [
    {
     "data": {
      "text/plain": [
       "[3, 3, 5, 5, 6, 6, 3, 4, 8, 7, 9]"
      ]
     },
     "execution_count": 13,
     "metadata": {},
     "output_type": "execute_result"
    }
   ],
   "source": [
    "l4=l3.copy()\n",
    "l4"
   ]
  },
  {
   "cell_type": "code",
   "execution_count": 14,
   "id": "8cbcbdda-546d-4160-83e0-db568f251177",
   "metadata": {
    "tags": []
   },
   "outputs": [
    {
     "data": {
      "text/plain": [
       "[3, 3, 3, 4, 5, 5, 6, 6, 7, 8, 9]"
      ]
     },
     "execution_count": 14,
     "metadata": {},
     "output_type": "execute_result"
    }
   ],
   "source": [
    "l4.sort()\n",
    "l4"
   ]
  },
  {
   "cell_type": "code",
   "execution_count": 15,
   "id": "3b427d7a-9049-4591-a69e-2d6f40befefd",
   "metadata": {
    "tags": []
   },
   "outputs": [
    {
     "data": {
      "text/plain": [
       "[9, 8, 7, 6, 6, 5, 5, 4, 3, 3, 3]"
      ]
     },
     "execution_count": 15,
     "metadata": {},
     "output_type": "execute_result"
    }
   ],
   "source": [
    "l4.sort(reverse=True)\n",
    "l4"
   ]
  },
  {
   "cell_type": "code",
   "execution_count": 16,
   "id": "2e53019b-c3d5-4fb2-849c-46eb9a93fa2e",
   "metadata": {
    "tags": []
   },
   "outputs": [
    {
     "ename": "TypeError",
     "evalue": "'<' not supported between instances of 'str' and 'int'",
     "output_type": "error",
     "traceback": [
      "\u001b[1;31m---------------------------------------------------------------------------\u001b[0m",
      "\u001b[1;31mTypeError\u001b[0m                                 Traceback (most recent call last)",
      "Cell \u001b[1;32mIn[16], line 2\u001b[0m\n\u001b[0;32m      1\u001b[0m l5\u001b[38;5;241m=\u001b[39m[\u001b[38;5;241m1\u001b[39m,\u001b[38;5;241m2\u001b[39m,\u001b[38;5;241m3\u001b[39m,\u001b[38;5;241m4\u001b[39m,\u001b[38;5;124m'\u001b[39m\u001b[38;5;124mapple\u001b[39m\u001b[38;5;124m'\u001b[39m,\u001b[38;5;124m'\u001b[39m\u001b[38;5;124mjoin\u001b[39m\u001b[38;5;124m'\u001b[39m]\n\u001b[1;32m----> 2\u001b[0m l5\u001b[38;5;241m.\u001b[39msort()\n\u001b[0;32m      3\u001b[0m l5\n",
      "\u001b[1;31mTypeError\u001b[0m: '<' not supported between instances of 'str' and 'int'"
     ]
    }
   ],
   "source": [
    "l5=[1,2,3,4,'apple','join']\n",
    "l5.sort()\n",
    "l5"
   ]
  },
  {
   "cell_type": "code",
   "execution_count": 17,
   "id": "8f5bd88f-912e-4245-b273-f1635a5a74d9",
   "metadata": {
    "tags": []
   },
   "outputs": [
    {
     "data": {
      "text/plain": [
       "['apple', 'banana', 'cat', 'dog']"
      ]
     },
     "execution_count": 17,
     "metadata": {},
     "output_type": "execute_result"
    }
   ],
   "source": [
    "l6=['apple','banana','dog','cat']\n",
    "l6.sort()\n",
    "l6"
   ]
  },
  {
   "cell_type": "code",
   "execution_count": 18,
   "id": "7eb82abe-7f68-4e78-b90e-2ccf6ed51af9",
   "metadata": {
    "tags": []
   },
   "outputs": [
    {
     "data": {
      "text/plain": [
       "[8, 7.3, 3.6, 4, 3, 2, 1]"
      ]
     },
     "execution_count": 18,
     "metadata": {},
     "output_type": "execute_result"
    }
   ],
   "source": [
    "l7 = [1,2,3,4,3.6,7.3,8]\n",
    "l7.reverse()\n",
    "l7"
   ]
  },
  {
   "cell_type": "code",
   "execution_count": 19,
   "id": "cee698b1-c3d3-4ffd-9581-1b31173d2ddd",
   "metadata": {
    "tags": []
   },
   "outputs": [
    {
     "data": {
      "text/plain": [
       "7"
      ]
     },
     "execution_count": 19,
     "metadata": {},
     "output_type": "execute_result"
    }
   ],
   "source": [
    "len(l7)"
   ]
  },
  {
   "cell_type": "code",
   "execution_count": 20,
   "id": "d24a954b-9b24-472e-b4ea-28ea76e2a448",
   "metadata": {
    "tags": []
   },
   "outputs": [
    {
     "data": {
      "text/plain": [
       "1"
      ]
     },
     "execution_count": 20,
     "metadata": {},
     "output_type": "execute_result"
    }
   ],
   "source": [
    "min(l7)"
   ]
  },
  {
   "cell_type": "code",
   "execution_count": 21,
   "id": "75de35b7-1afa-4931-835a-3b176929e9d3",
   "metadata": {
    "tags": []
   },
   "outputs": [
    {
     "data": {
      "text/plain": [
       "8"
      ]
     },
     "execution_count": 21,
     "metadata": {},
     "output_type": "execute_result"
    }
   ],
   "source": [
    "max(l7)"
   ]
  },
  {
   "cell_type": "code",
   "execution_count": null,
   "id": "037c7605-9595-4856-911e-295d3f40cdca",
   "metadata": {},
   "outputs": [],
   "source": []
  }
 ],
 "metadata": {
  "kernelspec": {
   "display_name": "Python 3 (ipykernel)",
   "language": "python",
   "name": "python3"
  },
  "language_info": {
   "codemirror_mode": {
    "name": "ipython",
    "version": 3
   },
   "file_extension": ".py",
   "mimetype": "text/x-python",
   "name": "python",
   "nbconvert_exporter": "python",
   "pygments_lexer": "ipython3",
   "version": "3.11.5"
  }
 },
 "nbformat": 4,
 "nbformat_minor": 5
}
